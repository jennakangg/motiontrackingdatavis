{
 "cells": [
  {
   "cell_type": "code",
   "execution_count": 3,
   "metadata": {},
   "outputs": [
    {
     "name": "stdout",
     "output_type": "stream",
     "text": [
      "Generated JSON with 2 trials saved to trials.json.\n"
     ]
    }
   ],
   "source": [
    "import json\n",
    "\n",
    "# Define a mapping of kick_force to corresponding camera_position, camera_rotation, duration, and initial placements\n",
    "kick_force_mapping = {\n",
    "    \"kick_force_2\": {\n",
    "        \"camera_position\": [0.819, 0.22, -1.862],\n",
    "        \"camera_rotation\": [0.0, -55.355, 0.0],\n",
    "        \"duration\": [6.0, 6.0],\n",
    "        \"initial_ball_placement\": {\"x\": 0.5, \"y\": 0.5},\n",
    "        \"initial_crosshair_placement\": {\"x\": 0.4, \"y\": 0.6}\n",
    "    },\n",
    "    \"kick_force_4\": {\n",
    "        \"camera_position\": [0.819, 0.22, -1.862],\n",
    "        \"camera_rotation\": [0.0, -55.355, 0.0],\n",
    "        \"duration\": [6.0, 6.0],\n",
    "        \"initial_ball_placement\": {\"x\": 0.6, \"y\": 0.4},\n",
    "        \"initial_crosshair_placement\": {\"x\": 0.5, \"y\": 0.5}\n",
    "    }\n",
    "}\n",
    "\n",
    "# Function to generate segments based on the kick_force mapping\n",
    "def generate_segments_from_mapping():\n",
    "    segments = []\n",
    "    for kick_force, properties in kick_force_mapping.items():\n",
    "        segment = {\n",
    "            \"camera_position\": properties[\"camera_position\"],\n",
    "            \"camera_rotation\": properties[\"camera_rotation\"],\n",
    "            \"kick_force\": [float(kick_force.split(\"_\")[-1]), 0.0, 0.0],\n",
    "            \"duration\": properties[\"duration\"],\n",
    "            \"contrast_threshold_multiplier\": 1.0  # Default multiplier\n",
    "        }\n",
    "        segments.append(segment)\n",
    "    return segments\n",
    "\n",
    "# Function to generate a list of trials\n",
    "def generate_trials():\n",
    "    trials = []\n",
    "    trial_id = 1\n",
    "    for kick_force, properties in kick_force_mapping.items():\n",
    "        trial = {\n",
    "            \"trial_id\": trial_id,\n",
    "            \"initial_ball_placement\": properties[\"initial_ball_placement\"],\n",
    "            \"initial_crosshair_placement\": properties[\"initial_crosshair_placement\"],\n",
    "            \"contrast_threshold_multiplier\": 1.0,  # Default multiplier\n",
    "            \"segments\": [\n",
    "                {\n",
    "                    \"camera_position\": properties[\"camera_position\"],\n",
    "                    \"camera_rotation\": properties[\"camera_rotation\"],\n",
    "                    \"kick_force\": [float(kick_force.split(\"_\")[-1]), 0.0, 0.0],\n",
    "                    \"duration\": properties[\"duration\"],\n",
    "                    \"contrast_threshold_multiplier\": 1.0\n",
    "                }\n",
    "            ]\n",
    "        }\n",
    "        trials.append(trial)\n",
    "        trial_id += 1\n",
    "    return trials\n",
    "\n",
    "# Generate and save the JSON\n",
    "def save_to_json_file(file_path, trials):\n",
    "    with open(file_path, 'w') as file:\n",
    "        json.dump(trials, file, indent=4)\n",
    "\n",
    "# Main execution\n",
    "if __name__ == \"__main__\":\n",
    "    file_path = \"trials.json\"\n",
    "    trials = generate_trials()\n",
    "    save_to_json_file(file_path, trials)\n",
    "    print(f\"Generated JSON with {len(trials)} trials saved to {file_path}.\")\n"
   ]
  },
  {
   "cell_type": "code",
   "execution_count": null,
   "metadata": {},
   "outputs": [],
   "source": []
  }
 ],
 "metadata": {
  "kernelspec": {
   "display_name": "motion_tracking",
   "language": "python",
   "name": "python3"
  },
  "language_info": {
   "codemirror_mode": {
    "name": "ipython",
    "version": 3
   },
   "file_extension": ".py",
   "mimetype": "text/x-python",
   "name": "python",
   "nbconvert_exporter": "python",
   "pygments_lexer": "ipython3",
   "version": "3.12.5"
  }
 },
 "nbformat": 4,
 "nbformat_minor": 2
}
