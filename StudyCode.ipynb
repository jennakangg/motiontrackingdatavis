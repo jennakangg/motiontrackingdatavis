{
 "cells": [
  {
   "cell_type": "code",
   "execution_count": 7,
   "metadata": {},
   "outputs": [
    {
     "name": "stdout",
     "output_type": "stream",
     "text": [
      "Screen width in meters: 0.70 meters\n",
      "Required distance from the screen: 0.35 meters\n",
      "Pixels per degree: 33.51\n"
     ]
    }
   ],
   "source": [
    "import math\n",
    "\n",
    "def inches_to_meters(inches):\n",
    "    \"\"\"Convert inches to meters.\"\"\"\n",
    "    return inches * 0.0254\n",
    "\n",
    "def calculate_horizontal_width(diagonal, aspect_ratio_width, aspect_ratio_height):\n",
    "    \"\"\"\n",
    "    Calculate the horizontal width of the screen given its diagonal and aspect ratio.\n",
    "    \n",
    "    Parameters:\n",
    "    - diagonal: Diagonal size of the screen in meters.\n",
    "    - aspect_ratio_width: Width component of the screen's aspect ratio.\n",
    "    - aspect_ratio_height: Height component of the screen's aspect ratio.\n",
    "    \n",
    "    Returns:\n",
    "    - horizontal_width: Horizontal width of the screen in meters.\n",
    "    \"\"\"\n",
    "    aspect_ratio = math.sqrt(aspect_ratio_width**2 + aspect_ratio_height**2)\n",
    "    horizontal_width = (diagonal * aspect_ratio_width) / aspect_ratio\n",
    "    return horizontal_width\n",
    "\n",
    "def distance_for_fov(horizontal_width, fov_degrees):\n",
    "    \"\"\"\n",
    "    Calculate the distance from the screen for the screen to take up the specified FOV.\n",
    "    \n",
    "    Parameters:\n",
    "    - horizontal_width: Width of the screen in meters.\n",
    "    - fov_degrees: Desired horizontal field of view in degrees.\n",
    "    \n",
    "    Returns:\n",
    "    - distance: Required distance from the screen in meters.\n",
    "    \"\"\"\n",
    "    fov_radians = math.radians(fov_degrees)\n",
    "    distance = horizontal_width / (2 * math.tan(fov_radians / 2))\n",
    "    return distance\n",
    "\n",
    "def degrees_to_pixels(fov_degrees, display_resolution_width, horizontal_width):\n",
    "    \"\"\"\n",
    "    Convert degrees to pixels for the given FOV and display resolution.\n",
    "    \n",
    "    Parameters:\n",
    "    - fov_degrees: Desired horizontal field of view in degrees.\n",
    "    - display_resolution_width: Horizontal resolution of the screen in pixels.\n",
    "    - horizontal_width: Width of the screen in meters.\n",
    "    \n",
    "    Returns:\n",
    "    - pixels_per_degree: Number of pixels per degree.\n",
    "    \"\"\"\n",
    "    pixels_per_meter = display_resolution_width / horizontal_width\n",
    "    pixels_per_degree = pixels_per_meter * (math.tan(math.radians(1)) * horizontal_width / 2)\n",
    "    return pixels_per_degree\n",
    "\n",
    "# Given values\n",
    "diagonal_inches = 31.5  # screen diagonal in inches\n",
    "aspect_ratio_width = 16\n",
    "aspect_ratio_height = 9\n",
    "display_resolution_width = 3840  # horizontal resolution in pixels\n",
    "fov_degrees = 90  # desired FOV in degrees\n",
    "\n",
    "# Convert diagonal to meters\n",
    "diagonal_meters = inches_to_meters(diagonal_inches)\n",
    "\n",
    "# Calculate the horizontal width from the diagonal and aspect ratio\n",
    "horizontal_width = calculate_horizontal_width(diagonal_meters, aspect_ratio_width, aspect_ratio_height)\n",
    "\n",
    "# Calculate distance and pixels per degree\n",
    "distance = distance_for_fov(horizontal_width, fov_degrees)\n",
    "pixels_per_degree = degrees_to_pixels(fov_degrees, display_resolution_width, horizontal_width)\n",
    "\n",
    "print(f\"Screen width in meters: {horizontal_width:.2f} meters\")\n",
    "print(f\"Required distance from the screen: {distance:.2f} meters\")\n",
    "print(f\"Pixels per degree: {pixels_per_degree:.2f}\")\n"
   ]
  },
  {
   "cell_type": "code",
   "execution_count": 8,
   "metadata": {},
   "outputs": [
    {
     "name": "stdout",
     "output_type": "stream",
     "text": [
      "To cross the original fixation point in 200 ms, place the ball 0.03 pixels in the opposite direction.\n"
     ]
    }
   ],
   "source": [
    "import math\n",
    "\n",
    "def calculate_initial_displacement(velocity_pixels_per_second, target_time_ms):\n",
    "    \"\"\"\n",
    "    Calculate the distance in pixels to place the ball in the opposite direction\n",
    "    to cross the fixation point in the specified time.\n",
    "\n",
    "    Parameters:\n",
    "    - velocity_pixels_per_second: Velocity of the ball in pixels per second.\n",
    "    - target_time_ms: Time in milliseconds to reach the fixation point.\n",
    "\n",
    "    Returns:\n",
    "    - distance_in_pixels: Initial displacement in pixels from the fixation point.\n",
    "    \"\"\"\n",
    "    # Convert time from milliseconds to seconds\n",
    "    target_time_seconds = target_time_ms / 1000.0\n",
    "    # Calculate distance needed in pixels\n",
    "    distance_in_pixels = velocity_pixels_per_second * target_time_seconds\n",
    "    return distance_in_pixels\n",
    "\n",
    "# Example values\n",
    "screen_width_pixels = 3840  # Screen width in pixels\n",
    "screen_height_pixels = 2160  # Screen height in pixels\n",
    "display_diagonal_inches = 31.5  # Diagonal in inches\n",
    "target_time_ms = 200  # Time to reach the fixation point in milliseconds\n",
    "velocity_pixels_per_second = 500  # Ball velocity in pixels per second\n",
    "\n",
    "# Calculate the initial displacement needed\n",
    "initial_displacement = calculate_initial_displacement(velocity_pixels_per_second, target_time_ms)/screen_width_pixels\n",
    "\n",
    "print(f\"To cross the original fixation point in {target_time_ms} ms, \"\n",
    "      f\"place the ball {initial_displacement:.2f} pixels in the opposite direction.\")\n"
   ]
  },
  {
   "cell_type": "code",
   "execution_count": 9,
   "metadata": {},
   "outputs": [
    {
     "name": "stdout",
     "output_type": "stream",
     "text": [
      "-0.20999999999999996\n"
     ]
    }
   ],
   "source": [
    "print(0.77-0.98)"
   ]
  },
  {
   "cell_type": "code",
   "execution_count": 12,
   "metadata": {},
   "outputs": [
    {
     "name": "stdout",
     "output_type": "stream",
     "text": [
      "Place the target 0.06 pixels to the right of the fixation point.\n"
     ]
    }
   ],
   "source": [
    "import math\n",
    "\n",
    "def calculate_pixel_offset(angular_velocity_deg_per_s, diagonal_inch, screen_resolution_px, aspect_ratio_width, aspect_ratio_height, viewing_distance_m, time_ms=200):\n",
    "    # Convert the diagonal screen size from inches to meters\n",
    "    diagonal_m = diagonal_inch * 0.0254  # 1 inch = 0.0254 meters\n",
    "    \n",
    "    # Calculate the horizontal and vertical screen sizes in meters using aspect ratio\n",
    "    diagonal_ratio = math.sqrt(aspect_ratio_width**2 + aspect_ratio_height**2)\n",
    "    screen_width_m = (aspect_ratio_width / diagonal_ratio) * diagonal_m\n",
    "    screen_height_m = (aspect_ratio_height / diagonal_ratio) * diagonal_m\n",
    "\n",
    "    # Convert angular velocity to radians per second\n",
    "    angular_velocity_rad_per_s = math.radians(angular_velocity_deg_per_s)\n",
    "    \n",
    "    # Convert time from milliseconds to seconds\n",
    "    time_s = time_ms / 1000.0\n",
    "    \n",
    "    # Calculate the linear distance the target needs to travel in meters\n",
    "    linear_distance_m = angular_velocity_rad_per_s * viewing_distance_m * time_s\n",
    "    \n",
    "    # Calculate the meters-to-pixels ratio for the screen\n",
    "    meters_to_pixels_ratio = screen_resolution_px / screen_width_m\n",
    "    \n",
    "    # Convert the linear distance from meters to pixels\n",
    "    pixel_offset = linear_distance_m * meters_to_pixels_ratio\n",
    "    \n",
    "    return pixel_offset\n",
    "\n",
    "# Example usage\n",
    "angular_velocity_deg_per_s = 25.0       # Angular velocity in degrees per second\n",
    "diagonal_inch = 31.5                    # Diagonal size of the screen in inches\n",
    "screen_resolution_px = 3840             # Horizontal resolution of the screen in pixels\n",
    "aspect_ratio_width = 16                 # Aspect ratio width\n",
    "aspect_ratio_height = 9                 # Aspect ratio height\n",
    "viewing_distance_m = 0.5                # Viewing distance from the screen in meters\n",
    "\n",
    "# Calculate pixel offset\n",
    "pixel_offset = calculate_pixel_offset(angular_velocity_deg_per_s, diagonal_inch, screen_resolution_px, aspect_ratio_width, aspect_ratio_height, viewing_distance_m)/screen_width_pixels\n",
    "print(f\"Place the target {pixel_offset:.2f} pixels to the right of the fixation point.\")\n"
   ]
  },
  {
   "cell_type": "code",
   "execution_count": null,
   "metadata": {},
   "outputs": [],
   "source": []
  }
 ],
 "metadata": {
  "kernelspec": {
   "display_name": "Python 3",
   "language": "python",
   "name": "python3"
  },
  "language_info": {
   "codemirror_mode": {
    "name": "ipython",
    "version": 3
   },
   "file_extension": ".py",
   "mimetype": "text/x-python",
   "name": "python",
   "nbconvert_exporter": "python",
   "pygments_lexer": "ipython3",
   "version": "3.10.15"
  }
 },
 "nbformat": 4,
 "nbformat_minor": 2
}
