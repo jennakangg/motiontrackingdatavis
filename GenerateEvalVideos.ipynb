{
 "cells": [
  {
   "cell_type": "code",
   "execution_count": 2,
   "metadata": {},
   "outputs": [
    {
     "name": "stdout",
     "output_type": "stream",
     "text": [
      "Generated JSON with 2 trials saved to eval_trial_videos.json.\n"
     ]
    }
   ],
   "source": [
    "import json\n",
    "import os\n",
    "\n",
    "# Define a mapping of trial_id to corresponding video file names and initial crosshair placement\n",
    "video_mapping = {\n",
    "    1: {\"video_name\": \"fps_clip_1_clip.mp4\", \"initial_crosshair_placement\": {\"x\": 0.5, \"y\": 0.5}},\n",
    "    2: {\"video_name\": \"dog_running.mp4\", \"initial_crosshair_placement\": {\"x\": 0.5, \"y\": 0.5}}\n",
    "}\n",
    "\n",
    "# Function to generate a list of trials with trial_id, video_path, and initial_crosshair_placement\n",
    "def generate_simple_trials(base_dir=\"\"):\n",
    "    trials = []\n",
    "    for trial_id, details in video_mapping.items():\n",
    "        # Combine base directory and video name\n",
    "        video_path = os.path.join(base_dir, details[\"video_name\"])\n",
    "        trial = {\n",
    "            \"trial_id\": trial_id,\n",
    "            \"video_path\": video_path,\n",
    "            \"initial_crosshair_placement\": details[\"initial_crosshair_placement\"]\n",
    "        }\n",
    "        trials.append(trial)\n",
    "    return trials\n",
    "\n",
    "# Function to save the trials to a JSON file\n",
    "def save_to_json_file(file_path, trials):\n",
    "    with open(file_path, 'w') as file:\n",
    "        json.dump(trials, file, indent=5)\n",
    "\n",
    "# Main execution\n",
    "if __name__ == \"__main__\":\n",
    "    file_path = \"eval_trial_videos.json\"\n",
    "    \n",
    "    trials = generate_simple_trials(\"\")\n",
    "    save_to_json_file(file_path, trials)\n",
    "    \n",
    "    print(f\"Generated JSON with {len(trials)} trials saved to {file_path}.\")\n"
   ]
  },
  {
   "cell_type": "code",
   "execution_count": null,
   "metadata": {},
   "outputs": [],
   "source": []
  }
 ],
 "metadata": {
  "kernelspec": {
   "display_name": "motion_tracking",
   "language": "python",
   "name": "python3"
  },
  "language_info": {
   "codemirror_mode": {
    "name": "ipython",
    "version": 3
   },
   "file_extension": ".py",
   "mimetype": "text/x-python",
   "name": "python",
   "nbconvert_exporter": "python",
   "pygments_lexer": "ipython3",
   "version": "3.11.11"
  }
 },
 "nbformat": 4,
 "nbformat_minor": 2
}
